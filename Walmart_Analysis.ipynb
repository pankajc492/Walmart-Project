{
 "cells": [
  {
   "cell_type": "markdown",
   "id": "c52f1789",
   "metadata": {},
   "source": [
    "# Walmart Purchase Behavior Analysis\n",
    "\n",
    "This notebook analyzes Walmart customer purchase behavior based on gender, age, occupation, marital status, and product category."
Business Understanding
Walmart is an American retail corporation that operates a chain of hypermarkets, discount department stores, and grocery stores.
ebe3b613-a848-11e7-ac45-8d3c52b5d95e_r2z5.jpg

In this project, we focused to answer the following questions:
Which store has minimum and maximum sales?
Which store has maximum standard deviation i.e., the sales vary a lot. Also, find out the coefficient of mean to standard deviation
Which store/s has good quarterly growth rate in Q3’2012
Some holidays have a negative impact on sales. Find out holidays which have higher sales than the mean sales in non-holiday season for all stores together
Provide a monthly and semester view of sales in units and give insights
Build prediction to forecast demand.
Data Understanding
There are sales data available for 45 stores of Walmart in Kaggle. This is the data that covers sales from 2010-02-05 to 2012-11-01.

The data contains these features:

Store - the store number
Date - the week of sales
Weekly_Sales - sales for the given store
Holiday_Flag - whether the week is a special holiday week 1 – Holiday week 0 – Non-holiday week
Temperature - Temperature on the day of sale
Fuel_Price - Cost of fuel in the region
CPI – Prevailing consumer price index
Unemployment - Prevailing unemployment rate

   ]
  },
  {
   "cell_type": "code",
   "execution_count": null,
   "id": "f83ffb8a",
   "metadata": {},
   "outputs": [],
   "source": [
    "import pandas as pd\n",
    "import seaborn as sns\n",
    "import matplotlib.pyplot as plt\n",
    "import numpy as np\n",
    "import warnings\n",
    "warnings.filterwarnings('ignore')"
   ]
  },
  {
   "cell_type": "code",
   "execution_count": null,
   "id": "6decda81",
   "metadata": {},
   "outputs": [],
   "source": [
    "# Load the data\n",
    "df = pd.read_csv('walmart_data.txt')\n",
    "df.head()"
   ]
  },
  {
   "cell_type": "code",
   "execution_count": null,
   "id": "248b1c73",
   "metadata": {},
   "outputs": [],
   "source": [
    "df.info()\n",
    "df.isnull().sum()"
   ]
  },
  {
   "cell_type": "code",
   "execution_count": null,
   "id": "59094bd3",
   "metadata": {},
   "outputs": [],
   "source": [
    "df.shape\n",
    "df.dtypes"
   ]
  },
  {
   "cell_type": "code",
   "execution_count": null,
   "id": "bfdd7961",
   "metadata": {},
   "outputs": [],
   "source": [
    "df['City_Category'] = df['City_Category'].astype('category')\n",
    "df['Gender'] = df['Gender'].astype('category')"
   ]
  },
  {
   "cell_type": "code",
   "execution_count": null,
   "id": "96569df4",
   "metadata": {},
   "outputs": [],
   "source": [
    "df.describe()"
   ]
  },
  {
   "cell_type": "code",
   "execution_count": null,
   "id": "4106d277",
   "metadata": {},
   "outputs": [],
   "source": [
    "df['Product_Category'].value_counts()\n",
    "df.nunique()"
   ]
  },
  {
   "cell_type": "markdown",
   "id": "2cd0b5db",
   "metadata": {},
   "source": [
    "## Univariate Analysis - Continuous Variables"
   ]
  },
  {
   "cell_type": "code",
   "execution_count": null,
   "id": "7165e0aa",
   "metadata": {},
   "outputs": [],
   "source": [
    "sns.histplot(x='Stay_In_Current_City_Years', data=df, kde=True)\n",
    "plt.title('Stay Range')\n",
    "plt.xlabel('Stay_In_Current_City_Years')\n",
    "plt.ylabel('Count')\n",
    "plt.show()"
   ]
  },
  {
   "cell_type": "code",
   "execution_count": null,
   "id": "68fbb746",
   "metadata": {},
   "outputs": [],
   "source": [
    "sns.displot(df['Purchase'], kde=True, bins=30)\n",
    "plt.title('Distribution of Purchase Amount')\n",
    "plt.xlabel('Purchase Amount')\n",
    "plt.ylabel('Density')\n",
    "plt.show()"
   ]
  },
  {
   "cell_type": "code",
   "execution_count": null,
   "id": "e6ebce28",
   "metadata": {},
   "outputs": [],
   "source": [
    "sns.countplot(x='Age', data=df, order=sorted(df['Age'].unique()))\n",
    "plt.title('Distribution of Age')\n",
    "plt.xlabel('Age Groups')\n",
    "plt.ylabel('Count')\n",
    "plt.show()"
   ]
  },
  {
   "cell_type": "markdown",
   "id": "5a45908f",
   "metadata": {},
   "source": [
    "## Bivariate Analysis - Categorical Variables"
   ]
  },
  {
   "cell_type": "code",
   "execution_count": null,
   "id": "ef80b62d",
   "metadata": {},
   "outputs": [],
   "source": [
    "sns.boxplot(x='Gender', y='Purchase', data=df)\n",
    "plt.title('Purchase Distribution by Gender')\n",
    "plt.show()"
   ]
  },
  {
   "cell_type": "code",
   "execution_count": null,
   "id": "980c5de0",
   "metadata": {},
   "outputs": [],
   "source": [
    "sns.boxplot(x='Age', y='Purchase', data=df)\n",
    "plt.title('Purchase Distribution by Age Group')\n",
    "plt.show()"
   ]
  },
  {
   "cell_type": "code",
   "execution_count": null,
   "id": "0adb410a",
   "metadata": {},
   "outputs": [],
   "source": [
    "corr = df.select_dtypes(include=['number']).corr()\n",
    "plt.figure(figsize=(10,6))\n",
    "sns.heatmap(corr, annot=True, cmap='coolwarm', fmt='.2f')\n",
    "plt.title('Correlation Heatmap')\n",
    "plt.show()"
   ]
  },
  {
   "cell_type": "markdown",
   "id": "82808354",
   "metadata": {},
   "source": [
    "## Missing Value & Outlier Detection"
   ]
  },
  {
   "cell_type": "code",
   "execution_count": null,
   "id": "210c2bf4",
   "metadata": {},
   "outputs": [],
   "source": [
    "missing_values = df.isnull().sum()\n",
    "missing_percentage = df.isnull().mean() * 100\n",
    "missing_data = pd.DataFrame({'Missing Values': missing_values, 'Percentage': missing_percentage})\n",
    "missing_data"
   ]
  },
  {
   "cell_type": "code",
   "execution_count": null,
   "id": "f64f631f",
   "metadata": {},
   "outputs": [],
   "source": [
    "numerical = df.select_dtypes(include=['float64', 'int64']).columns\n",
    "Q1 = df[numerical].quantile(0.25)\n",
    "Q3 = df[numerical].quantile(0.75)\n",
    "IQR = Q3 - Q1\n",
    "lower_bound = Q1 - 1.5 * IQR\n",
    "upper_bound = Q3 + 1.5 * IQR\n",
    "outlier = df[(df[numerical] < lower_bound) | (df[numerical] > upper_bound)].any(axis=1)\n",
    "df[~outlier]"
   ]
  },
  {
   "cell_type": "markdown",
   "id": "0a4d3d3b",
   "metadata": {},
   "source": [
    "## Final Insights\n",
    "- Males spend more than females.\n",
    "- 26-35 age group spends the most.\n",
    "- Married customers tend to spend slightly more.\n",
    "- Confidence intervals and boxplots confirm these insights.\n",
    "\n",
    "These insights can help Walmart tailor marketing and pricing strategies accordingly."
   ]
  }
 ],
 "metadata": {},
 "nbformat": 4,
 "nbformat_minor": 5
}
